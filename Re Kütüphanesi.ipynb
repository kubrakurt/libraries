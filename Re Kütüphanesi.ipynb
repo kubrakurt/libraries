{
 "cells": [
  {
   "cell_type": "markdown",
   "id": "c2d7cc82-c8f5-444b-a4b8-34f5a77867a2",
   "metadata": {},
   "source": [
    "# Re"
   ]
  },
  {
   "cell_type": "code",
   "execution_count": 1,
   "id": "fb55f6cc-da60-4828-9719-238dc8e4c2e9",
   "metadata": {},
   "outputs": [],
   "source": [
    "# Kütüphane import edilir\n",
    "import re"
   ]
  },
  {
   "cell_type": "markdown",
   "id": "fa789cff-b61e-4f58-bd73-40440b74c57f",
   "metadata": {},
   "source": [
    "## ● String ifadede kelime aramak:"
   ]
  },
  {
   "cell_type": "code",
   "execution_count": 2,
   "id": "2958b0fd-931d-4252-b719-2127e3facdcd",
   "metadata": {},
   "outputs": [
    {
     "data": {
      "text/plain": [
       "['Veri']"
      ]
     },
     "execution_count": 2,
     "metadata": {},
     "output_type": "execute_result"
    }
   ],
   "source": [
    "sentence = \"Veri Bilimi ve Yapay Zeka\"\n",
    "# Veri kelimesi aranacak\n",
    "re.findall(\"Veri\", sentence)"
   ]
  },
  {
   "cell_type": "code",
   "execution_count": 3,
   "id": "60d47fc0-5756-478c-80cf-47446c4ee924",
   "metadata": {},
   "outputs": [
    {
     "data": {
      "text/plain": [
       "1"
      ]
     },
     "execution_count": 3,
     "metadata": {},
     "output_type": "execute_result"
    }
   ],
   "source": [
    "# Veri kelimesi kaç tane var\n",
    "len(re.findall(\"Veri\", sentence))"
   ]
  },
  {
   "cell_type": "markdown",
   "id": "6595188a-188a-46df-878f-be0792316103",
   "metadata": {},
   "source": [
    "## ● İstenilen kelimenin konumunu aramak:"
   ]
  },
  {
   "cell_type": "code",
   "execution_count": 4,
   "id": "956332d1-d4f1-4504-88b3-5e78d4163661",
   "metadata": {},
   "outputs": [
    {
     "data": {
      "text/plain": [
       "<re.Match object; span=(0, 4), match='Veri'>"
      ]
     },
     "execution_count": 4,
     "metadata": {},
     "output_type": "execute_result"
    }
   ],
   "source": [
    "# Veri kelimesini aramak\n",
    "re.search(\"Veri\", sentence)"
   ]
  },
  {
   "cell_type": "code",
   "execution_count": 5,
   "id": "3176dd03-f0b2-42ba-97f4-913bb63787d8",
   "metadata": {},
   "outputs": [
    {
     "data": {
      "text/plain": [
       "(0, 4)"
      ]
     },
     "execution_count": 5,
     "metadata": {},
     "output_type": "execute_result"
    }
   ],
   "source": [
    "# Sadece kaçıncı indexte olduğuna erişmek\n",
    "re.search(\"Veri\", sentence).span()"
   ]
  },
  {
   "cell_type": "code",
   "execution_count": 6,
   "id": "67ad15db-807b-4898-8d5e-c6df5da66ec9",
   "metadata": {},
   "outputs": [
    {
     "data": {
      "text/plain": [
       "0"
      ]
     },
     "execution_count": 6,
     "metadata": {},
     "output_type": "execute_result"
    }
   ],
   "source": [
    "# Hangi indexten başladığına erişmek\n",
    "re.search(\"Veri\", sentence).start()"
   ]
  },
  {
   "cell_type": "code",
   "execution_count": 7,
   "id": "b3d52b5d-1dfd-4778-92a2-2b1e622254d1",
   "metadata": {},
   "outputs": [
    {
     "data": {
      "text/plain": [
       "4"
      ]
     },
     "execution_count": 7,
     "metadata": {},
     "output_type": "execute_result"
    }
   ],
   "source": [
    "# Hangi indekste bittiğine erişmek\n",
    "re.search(\"Veri\", sentence).end()"
   ]
  },
  {
   "cell_type": "markdown",
   "id": "a1f1ad53-3b3b-4502-84d5-4ea0cfdbc299",
   "metadata": {},
   "source": [
    "## ● Verilen karakterden sonra cümlenin bölünmesi:"
   ]
  },
  {
   "cell_type": "code",
   "execution_count": 8,
   "id": "379781a2-19a2-4256-9986-43d956efa5e5",
   "metadata": {},
   "outputs": [
    {
     "data": {
      "text/plain": [
       "['Veri', 'Bilimi', 've', 'Yapay', 'Zeka']"
      ]
     },
     "execution_count": 8,
     "metadata": {},
     "output_type": "execute_result"
    }
   ],
   "source": [
    "# Boşluk karakterlerinden sonra cümlenin bölünmesi\n",
    "re.split(\" \", sentence)"
   ]
  },
  {
   "cell_type": "code",
   "execution_count": 9,
   "id": "a0740e40-5c1f-419b-b35a-8416a923cc96",
   "metadata": {},
   "outputs": [
    {
     "data": {
      "text/plain": [
       "['Veri Bilimi ', ' Yapay Zeka']"
      ]
     },
     "execution_count": 9,
     "metadata": {},
     "output_type": "execute_result"
    }
   ],
   "source": [
    "# ve ifadesinden sonra kelimenin bölünmesi\n",
    "re.split(\"ve\", sentence)"
   ]
  },
  {
   "cell_type": "markdown",
   "id": "ad72df3a-4f26-430b-9e46-d7c08e3ab81e",
   "metadata": {},
   "source": [
    "## ● Değiştirilmek istenen karakterleri istenilen karakter ile değiştirmek:"
   ]
  },
  {
   "cell_type": "code",
   "execution_count": 10,
   "id": "ea51e1b0-3180-417e-851e-1feeff6c96eb",
   "metadata": {},
   "outputs": [
    {
     "data": {
      "text/plain": [
       "'Veri-Bilimi-ve-Yapay-Zeka'"
      ]
     },
     "execution_count": 10,
     "metadata": {},
     "output_type": "execute_result"
    }
   ],
   "source": [
    "# Boşluk karakterlerini \"-\" ile değiştirmek\n",
    "re.sub(\" \", \"-\", sentence)"
   ]
  },
  {
   "cell_type": "code",
   "execution_count": 11,
   "id": "9620dde2-c10c-471d-a526-d4afc3dd9cb7",
   "metadata": {},
   "outputs": [
    {
     "data": {
      "text/plain": [
       "'Veri-Bilimi-ve-Yapay-Zeka'"
      ]
     },
     "execution_count": 11,
     "metadata": {},
     "output_type": "execute_result"
    }
   ],
   "source": [
    "# Boşluk karakteri \"\\s\" ile de ifade edilebilir\n",
    "re.sub(\"\\s\", \"-\", sentence)"
   ]
  },
  {
   "cell_type": "markdown",
   "id": "5d3ddf7d-a1cd-462d-8e7f-0be2c41fd792",
   "metadata": {},
   "source": [
    "## ● Karakter araması yapmak:"
   ]
  },
  {
   "cell_type": "code",
   "execution_count": 12,
   "id": "40f61e42-09e7-4710-877e-a71314985701",
   "metadata": {},
   "outputs": [
    {
     "data": {
      "text/plain": [
       "['a', 'a', 'a']"
      ]
     },
     "execution_count": 12,
     "metadata": {},
     "output_type": "execute_result"
    }
   ],
   "source": [
    "# Köşeli parantez içerisine alınan tüm karakterler aranır\n",
    "# \"a\" karakterini cümle içerisinde aramak\n",
    "re.findall(\"[a]\", sentence)"
   ]
  },
  {
   "cell_type": "code",
   "execution_count": 13,
   "id": "ffbeebd7-6dbb-4ac3-8b66-7eebd44b0384",
   "metadata": {},
   "outputs": [
    {
     "data": {
      "text/plain": [
       "['e', 'i', 'i', 'i', 'i', 'e', 'a', 'a', 'e', 'a']"
      ]
     },
     "execution_count": 13,
     "metadata": {},
     "output_type": "execute_result"
    }
   ],
   "source": [
    "# \"aei\" karakterlerini aramak\n",
    "re.findall(\"[aei]\", sentence)"
   ]
  },
  {
   "cell_type": "code",
   "execution_count": 14,
   "id": "e6033721-bad0-4500-b5e2-53d5ec68ef19",
   "metadata": {},
   "outputs": [
    {
     "data": {
      "text/plain": [
       "['e', 'i', 'i', 'l', 'i', 'm', 'i', 'e', 'a', 'p', 'a', 'e', 'k', 'a']"
      ]
     },
     "execution_count": 14,
     "metadata": {},
     "output_type": "execute_result"
    }
   ],
   "source": [
    "# \"a-p\" arası karakterlerin hepsini aramak\n",
    "re.findall(\"[a-p]\", sentence)"
   ]
  },
  {
   "cell_type": "code",
   "execution_count": 15,
   "id": "84c10530-f588-457f-9125-c36689f9cf0c",
   "metadata": {},
   "outputs": [
    {
     "data": {
      "text/plain": [
       "['V', 'r', ' ', 'B', 'l', 'm', ' ', 'v', ' ', 'Y', 'p', 'y', ' ', 'Z', 'k']"
      ]
     },
     "execution_count": 15,
     "metadata": {},
     "output_type": "execute_result"
    }
   ],
   "source": [
    "# \"aei\" dışındaki karakterleri aramak\n",
    "re.findall(\"[^aei]\", sentence)"
   ]
  },
  {
   "cell_type": "markdown",
   "id": "60d3571e-6391-4c91-b108-d60961f4237d",
   "metadata": {},
   "source": [
    "## ● İkili, üçlü, dörtlü vs. gruplar halinde bölmek:"
   ]
  },
  {
   "cell_type": "code",
   "execution_count": 16,
   "id": "f82e4633-4ffb-48d0-9fa1-d7b996404706",
   "metadata": {},
   "outputs": [
    {
     "data": {
      "text/plain": [
       "['Ve', 'ri', ' B', 'il', 'im', 'i ', 've', ' Y', 'ap', 'ay', ' Z', 'ek']"
      ]
     },
     "execution_count": 16,
     "metadata": {},
     "output_type": "execute_result"
    }
   ],
   "source": [
    "# Tüm ikili grupları almak\n",
    "re.findall(\"..\", sentence)"
   ]
  },
  {
   "cell_type": "code",
   "execution_count": 17,
   "id": "bd00a28f-ad20-4ae6-9f51-6e6eab2fa622",
   "metadata": {},
   "outputs": [
    {
     "data": {
      "text/plain": [
       "['Ver', 'i B', 'ili', 'mi ', 've ', 'Yap', 'ay ', 'Zek']"
      ]
     },
     "execution_count": 17,
     "metadata": {},
     "output_type": "execute_result"
    }
   ],
   "source": [
    "# Tüm üçlü grupları almak\n",
    "re.findall(\"...\", sentence)"
   ]
  },
  {
   "cell_type": "code",
   "execution_count": 18,
   "id": "78159cf2-8497-4c36-a991-6aae1e35c6d1",
   "metadata": {},
   "outputs": [
    {
     "data": {
      "text/plain": [
       "['Veri', ' Bil', 'imi ', 've Y', 'apay', ' Zek']"
      ]
     },
     "execution_count": 18,
     "metadata": {},
     "output_type": "execute_result"
    }
   ],
   "source": [
    "# Tüm dörtlü grupları almak\n",
    "re.findall(\"....\", sentence)"
   ]
  },
  {
   "cell_type": "markdown",
   "id": "a653b774-a864-4a3c-9bcf-fe2e5c7e3a9b",
   "metadata": {},
   "source": [
    "## ● Belirli karakterler ile başlayıp, belirli karakterler ile bitenleri aramak:"
   ]
  },
  {
   "cell_type": "code",
   "execution_count": 19,
   "id": "3ffdd079-4093-43be-a6b8-e7ff8a4c97ae",
   "metadata": {},
   "outputs": [
    {
     "data": {
      "text/plain": [
       "['Veri']"
      ]
     },
     "execution_count": 19,
     "metadata": {},
     "output_type": "execute_result"
    }
   ],
   "source": [
    "# V ile başlayıp i ile bitenleri arada herhangi iki karakter olmak üzere aramak\n",
    "re.findall(\"V..i\", sentence)"
   ]
  },
  {
   "cell_type": "markdown",
   "id": "f9754224-58a2-486a-9221-555551ca3ba8",
   "metadata": {},
   "source": [
    "## ● Cümle belirtilen karakterle başlıyor mu?"
   ]
  },
  {
   "cell_type": "code",
   "execution_count": 20,
   "id": "12f82a77-451b-4dd2-a18c-a83d52b7f8d4",
   "metadata": {},
   "outputs": [
    {
     "data": {
      "text/plain": [
       "['V']"
      ]
     },
     "execution_count": 20,
     "metadata": {},
     "output_type": "execute_result"
    }
   ],
   "source": [
    "# Cümle V ile başlıyor mu?\n",
    "re.findall(\"^V\", sentence)"
   ]
  },
  {
   "cell_type": "code",
   "execution_count": 21,
   "id": "992c893d-72c4-4d35-8ff4-c13ea4a55196",
   "metadata": {},
   "outputs": [
    {
     "data": {
      "text/plain": [
       "[]"
      ]
     },
     "execution_count": 21,
     "metadata": {},
     "output_type": "execute_result"
    }
   ],
   "source": [
    "# Cümle Y ile başlıyor mu?\n",
    "re.findall(\"^Y\", sentence)"
   ]
  },
  {
   "cell_type": "markdown",
   "id": "244fbfc0-69a1-4b5b-93d1-4907da0c90e8",
   "metadata": {},
   "source": [
    "## ● Cümle belirtilen karakterle bitiyor mu?"
   ]
  },
  {
   "cell_type": "code",
   "execution_count": 22,
   "id": "16d0ac93-da89-4916-9468-8a9fbaf426b7",
   "metadata": {},
   "outputs": [
    {
     "data": {
      "text/plain": [
       "['a']"
      ]
     },
     "execution_count": 22,
     "metadata": {},
     "output_type": "execute_result"
    }
   ],
   "source": [
    "# Cümle a ile bitiyor mu?\n",
    "re.findall(\"a$\", sentence)"
   ]
  },
  {
   "cell_type": "code",
   "execution_count": 23,
   "id": "8acd842c-0619-4ced-a3fc-62f27774fed7",
   "metadata": {},
   "outputs": [
    {
     "data": {
      "text/plain": [
       "[]"
      ]
     },
     "execution_count": 23,
     "metadata": {},
     "output_type": "execute_result"
    }
   ],
   "source": [
    "# Cümle k ile bitiyor mu?\n",
    "re.findall(\"k$\", sentence)"
   ]
  },
  {
   "cell_type": "markdown",
   "id": "f89c3c6a-653a-4519-8761-a96f89647937",
   "metadata": {},
   "source": [
    "## ● Cümle belirtilen kelime ile bitiyor mu?"
   ]
  },
  {
   "cell_type": "code",
   "execution_count": 24,
   "id": "419e3861-4bae-442d-a8b4-b24b1d3c40e6",
   "metadata": {},
   "outputs": [
    {
     "data": {
      "text/plain": [
       "['Zeka']"
      ]
     },
     "execution_count": 24,
     "metadata": {},
     "output_type": "execute_result"
    }
   ],
   "source": [
    "# Zeka ile bitiyor mu?\n",
    "re.findall(\"Zeka$\", sentence)"
   ]
  },
  {
   "cell_type": "code",
   "execution_count": 25,
   "id": "217849f8-e96f-4db0-9b48-65f679c2f48a",
   "metadata": {},
   "outputs": [
    {
     "data": {
      "text/plain": [
       "[]"
      ]
     },
     "execution_count": 25,
     "metadata": {},
     "output_type": "execute_result"
    }
   ],
   "source": [
    "# Bilimi ile bitiyor mu?\n",
    "re.findall(\"Bilimi$\", sentence)"
   ]
  },
  {
   "cell_type": "markdown",
   "id": "bc2ebebd-ab77-44ac-97d0-a052685c39fc",
   "metadata": {},
   "source": [
    "## ● Kelimede iki harfin yan yana olup olmadığını sorgulamak:"
   ]
  },
  {
   "cell_type": "code",
   "execution_count": 26,
   "id": "16debfd0-2f8f-4f88-bf85-81c3cccae20c",
   "metadata": {},
   "outputs": [
    {
     "data": {
      "text/plain": [
       "['veri']"
      ]
     },
     "execution_count": 26,
     "metadata": {},
     "output_type": "execute_result"
    }
   ],
   "source": [
    "word = \"veri\"\n",
    "# r ve i yan yana geliyor mu?\n",
    "re.findall(\"ver*i\", word)"
   ]
  },
  {
   "cell_type": "code",
   "execution_count": 27,
   "id": "e1ec1d22-57f8-4913-87c9-d37b1d05cddf",
   "metadata": {},
   "outputs": [
    {
     "data": {
      "text/plain": [
       "[]"
      ]
     },
     "execution_count": 27,
     "metadata": {},
     "output_type": "execute_result"
    }
   ],
   "source": [
    "word = \"versi\"\n",
    "# r ve i yan yana geliyor mu?\n",
    "re.findall(\"ver*i\", word)"
   ]
  },
  {
   "cell_type": "code",
   "execution_count": 28,
   "id": "bc0e78dc-8c28-4e0e-a338-ef2ed6553b8b",
   "metadata": {},
   "outputs": [
    {
     "data": {
      "text/plain": [
       "['veri']"
      ]
     },
     "execution_count": 28,
     "metadata": {},
     "output_type": "execute_result"
    }
   ],
   "source": [
    "word = \"veriiiii\"\n",
    "# r ve i yan yana geliyor mu?\n",
    "re.findall(\"ver*i\", word)"
   ]
  },
  {
   "cell_type": "code",
   "execution_count": 29,
   "id": "f1046436-5a1d-4661-bd3a-ddf78b616933",
   "metadata": {},
   "outputs": [
    {
     "data": {
      "text/plain": [
       "['verrrrri']"
      ]
     },
     "execution_count": 29,
     "metadata": {},
     "output_type": "execute_result"
    }
   ],
   "source": [
    "word = \"verrrrri\"\n",
    "# r ve i yan yana geliyor mu?\n",
    "re.findall(\"ver*i\", word)"
   ]
  },
  {
   "cell_type": "markdown",
   "id": "ea4d5251-a056-4cf9-9532-60e1cd4fefbe",
   "metadata": {},
   "source": [
    "## ● Herhangi karakterden belli sayıda olanları aramak:"
   ]
  },
  {
   "cell_type": "code",
   "execution_count": 30,
   "id": "fdfc2f59-69fa-4982-85b8-1ddc786b57f8",
   "metadata": {},
   "outputs": [
    {
     "data": {
      "text/plain": [
       "['ii']"
      ]
     },
     "execution_count": 30,
     "metadata": {},
     "output_type": "execute_result"
    }
   ],
   "source": [
    "word = \"verii\"\n",
    "# i 2 tane ise getir\n",
    "re.findall(\"i{2}\", word)"
   ]
  },
  {
   "cell_type": "code",
   "execution_count": 31,
   "id": "ffde8da4-8c93-4117-8843-ca075a7b52af",
   "metadata": {},
   "outputs": [
    {
     "data": {
      "text/plain": [
       "['i', 'i']"
      ]
     },
     "execution_count": 31,
     "metadata": {},
     "output_type": "execute_result"
    }
   ],
   "source": [
    "word = \"verii\"\n",
    "# i 1 tane ise getir\n",
    "re.findall(\"i{1}\", word)"
   ]
  },
  {
   "cell_type": "code",
   "execution_count": 32,
   "id": "ae2ad0e3-d6e8-409b-9861-428abe349f3b",
   "metadata": {},
   "outputs": [
    {
     "data": {
      "text/plain": [
       "[]"
      ]
     },
     "execution_count": 32,
     "metadata": {},
     "output_type": "execute_result"
    }
   ],
   "source": [
    "word = \"verii\"\n",
    "# i 3 tane ise getir\n",
    "re.findall(\"i{3}\", word)"
   ]
  },
  {
   "cell_type": "markdown",
   "id": "fbc50ca4-79e1-4539-a28b-62c7357d320c",
   "metadata": {},
   "source": [
    "## ● İki karakterden en az birisi varsa getir:"
   ]
  },
  {
   "cell_type": "code",
   "execution_count": 33,
   "id": "b47c26fc-ad43-45eb-86ee-4eb77eca9c61",
   "metadata": {},
   "outputs": [
    {
     "data": {
      "text/plain": [
       "['v', 'e']"
      ]
     },
     "execution_count": 33,
     "metadata": {},
     "output_type": "execute_result"
    }
   ],
   "source": [
    "word = \"veri\"\n",
    "# v ya da e varsa\n",
    "re.findall(\"v|e\", word)"
   ]
  },
  {
   "cell_type": "code",
   "execution_count": 34,
   "id": "8210fa76-776b-4da0-87e9-98764e4c4f56",
   "metadata": {},
   "outputs": [
    {
     "data": {
      "text/plain": [
       "['v']"
      ]
     },
     "execution_count": 34,
     "metadata": {},
     "output_type": "execute_result"
    }
   ],
   "source": [
    "word = \"veri\"\n",
    "# v ya da a varsa\n",
    "re.findall(\"v|a\", word)"
   ]
  },
  {
   "cell_type": "code",
   "execution_count": 35,
   "id": "f1dd5c3c-4cd7-44d8-8609-20173bcc07e2",
   "metadata": {},
   "outputs": [
    {
     "data": {
      "text/plain": [
       "[]"
      ]
     },
     "execution_count": 35,
     "metadata": {},
     "output_type": "execute_result"
    }
   ],
   "source": [
    "word = \"veri\"\n",
    "# a ya da b varsa\n",
    "re.findall(\"a|b\", word)"
   ]
  },
  {
   "cell_type": "markdown",
   "id": "01ebadc6-2edd-4932-9f24-a523e7fa667a",
   "metadata": {},
   "source": [
    "## ● Verilen karakterlerden birisi ile başlaması yeterli, istenilen karakterler ile bitsin:"
   ]
  },
  {
   "cell_type": "code",
   "execution_count": 36,
   "id": "fee88b25-42de-46e7-b34b-b48d8f6ecea8",
   "metadata": {},
   "outputs": [
    {
     "data": {
      "text/plain": [
       "['k', 'b', 'g']"
      ]
     },
     "execution_count": 36,
     "metadata": {},
     "output_type": "execute_result"
    }
   ],
   "source": [
    "words = \"gül mül gel kel kal bal gal\"\n",
    "# g/m/k/b ile başlayabilir ama \"al\" ile bitenler\n",
    "re.findall(\"(g|m|k|b)al\", words)"
   ]
  },
  {
   "cell_type": "code",
   "execution_count": null,
   "id": "048ed9ae-97ec-487a-b6d5-50ac8a4d493c",
   "metadata": {},
   "outputs": [],
   "source": []
  }
 ],
 "metadata": {
  "kernelspec": {
   "display_name": "Python 3",
   "language": "python",
   "name": "python3"
  },
  "language_info": {
   "codemirror_mode": {
    "name": "ipython",
    "version": 3
   },
   "file_extension": ".py",
   "mimetype": "text/x-python",
   "name": "python",
   "nbconvert_exporter": "python",
   "pygments_lexer": "ipython3",
   "version": "3.8.8"
  }
 },
 "nbformat": 4,
 "nbformat_minor": 5
}
