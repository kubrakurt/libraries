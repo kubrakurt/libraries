{
 "cells": [
  {
   "cell_type": "markdown",
   "id": "575db221-4401-44e6-b52e-a38b3cda6f03",
   "metadata": {},
   "source": [
    "# Json Kütüphanesi"
   ]
  },
  {
   "cell_type": "code",
   "execution_count": 1,
   "id": "83cb6153-b7d6-4a0a-badf-933a803f251e",
   "metadata": {},
   "outputs": [],
   "source": [
    "import json"
   ]
  },
  {
   "cell_type": "markdown",
   "id": "2c98e0a5-433a-4f1e-837f-7eb3b42ebc28",
   "metadata": {},
   "source": [
    "## 1. Json Veri Oluşturmak\n",
    "\n",
    "* Sözlük yapılarının tırnak içine alınarak string hale getirilmesi ile oluşturulur."
   ]
  },
  {
   "cell_type": "code",
   "execution_count": 2,
   "id": "708320a6-c3f0-4868-bf0d-e868f3295cb7",
   "metadata": {},
   "outputs": [
    {
     "data": {
      "text/plain": [
       "'{\"Name\":\"Ali\", \"Languages\":[\"Python\",\"C#\"]}'"
      ]
     },
     "execution_count": 2,
     "metadata": {},
     "output_type": "execute_result"
    }
   ],
   "source": [
    "person = '{\"Name\":\"Ali\", \"Languages\":[\"Python\",\"C#\"]}'\n",
    "person"
   ]
  },
  {
   "cell_type": "code",
   "execution_count": 3,
   "id": "8db82f6d-4d29-48e5-aa8b-8a6ecfcb2943",
   "metadata": {},
   "outputs": [
    {
     "data": {
      "text/plain": [
       "str"
      ]
     },
     "execution_count": 3,
     "metadata": {},
     "output_type": "execute_result"
    }
   ],
   "source": [
    "type(person)"
   ]
  },
  {
   "cell_type": "markdown",
   "id": "0a005aad-2c46-42e5-909c-d98a371761c7",
   "metadata": {},
   "source": [
    "## 2. Json Tipini Sözlük Yapısına Dönüştürmek"
   ]
  },
  {
   "cell_type": "code",
   "execution_count": 4,
   "id": "86c39fba-34a2-4ccf-9bc6-bbb7d0fb1723",
   "metadata": {},
   "outputs": [
    {
     "data": {
      "text/plain": [
       "{'Name': 'Ali', 'Languages': ['Python', 'C#']}"
      ]
     },
     "execution_count": 4,
     "metadata": {},
     "output_type": "execute_result"
    }
   ],
   "source": [
    "result = json.loads(person)\n",
    "result"
   ]
  },
  {
   "cell_type": "code",
   "execution_count": 5,
   "id": "aae0dd1b-e7fe-4658-9e17-031e0e497690",
   "metadata": {},
   "outputs": [
    {
     "data": {
      "text/plain": [
       "dict"
      ]
     },
     "execution_count": 5,
     "metadata": {},
     "output_type": "execute_result"
    }
   ],
   "source": [
    "type(result)"
   ]
  },
  {
   "cell_type": "code",
   "execution_count": 6,
   "id": "4b1af7ea-b612-47d8-aba7-d43909025fb6",
   "metadata": {},
   "outputs": [
    {
     "data": {
      "text/plain": [
       "'Ali'"
      ]
     },
     "execution_count": 6,
     "metadata": {},
     "output_type": "execute_result"
    }
   ],
   "source": [
    "# Name bilgisine sözlük yapısında ulaşmak\n",
    "result[\"Name\"]"
   ]
  },
  {
   "cell_type": "code",
   "execution_count": 7,
   "id": "1b199efd-e387-46f7-a267-d04434087c3c",
   "metadata": {},
   "outputs": [
    {
     "data": {
      "text/plain": [
       "['Python', 'C#']"
      ]
     },
     "execution_count": 7,
     "metadata": {},
     "output_type": "execute_result"
    }
   ],
   "source": [
    "# Languages bilgisine sözlük yapısında ulaşmak\n",
    "result[\"Languages\"]"
   ]
  },
  {
   "cell_type": "markdown",
   "id": "edaa5c1e-517a-4328-9b21-8b1158876def",
   "metadata": {},
   "source": [
    "## 3. Json Dosyası Okumak\n",
    "\n",
    "* Aynı klasör içerisinde **```.json```** uzantılı json dosyası oluşturuyoruz."
   ]
  },
  {
   "cell_type": "code",
   "execution_count": 8,
   "id": "e0af3676-ec4c-4127-af9c-5aee51a847f3",
   "metadata": {},
   "outputs": [
    {
     "data": {
      "text/plain": [
       "{'Name': 'Zeynep', 'Languages': ['Java', 'Go']}"
      ]
     },
     "execution_count": 8,
     "metadata": {},
     "output_type": "execute_result"
    }
   ],
   "source": [
    "# Json dosyasını open ile açıyoruz ve f değişkenine atayarak alıyoruz\n",
    "with open(\"person.json\") as f:\n",
    "    # Json dosyasını yükleyerek data değişkenine atıyoruz\n",
    "    data = json.load(f)\n",
    "    \n",
    "data"
   ]
  },
  {
   "cell_type": "code",
   "execution_count": 9,
   "id": "e022934f-8359-4d7f-a873-5eba5875f934",
   "metadata": {},
   "outputs": [
    {
     "data": {
      "text/plain": [
       "'Zeynep'"
      ]
     },
     "execution_count": 9,
     "metadata": {},
     "output_type": "execute_result"
    }
   ],
   "source": [
    "data[\"Name\"]"
   ]
  },
  {
   "cell_type": "code",
   "execution_count": 10,
   "id": "031dd153-65c4-40a3-9ca8-a9b5cf0c493a",
   "metadata": {},
   "outputs": [
    {
     "data": {
      "text/plain": [
       "['Java', 'Go']"
      ]
     },
     "execution_count": 10,
     "metadata": {},
     "output_type": "execute_result"
    }
   ],
   "source": [
    "data[\"Languages\"]"
   ]
  },
  {
   "cell_type": "markdown",
   "id": "de1543b5-8383-475a-9624-62fabb73c677",
   "metadata": {},
   "source": [
    "## 4. Sözlük Yapısını Json Tipine Dönüştürmek"
   ]
  },
  {
   "cell_type": "code",
   "execution_count": 11,
   "id": "2398e5c2-1690-4011-80de-d1916d7092f9",
   "metadata": {},
   "outputs": [
    {
     "data": {
      "text/plain": [
       "'{\"Name\": \"Ali\", \"Languages\": [\"Python\", \"C#\"]}'"
      ]
     },
     "execution_count": 11,
     "metadata": {},
     "output_type": "execute_result"
    }
   ],
   "source": [
    "# Sözlük oluşturuyoruz\n",
    "\n",
    "person = {\n",
    "    \"Name\":\"Ali\",\n",
    "    \"Languages\":[\"Python\",\"C#\"],\n",
    "}\n",
    "\n",
    "# Sözlük yapısını json tipine dönüştürüyoruz\n",
    "\n",
    "result = json.dumps(person)\n",
    "result"
   ]
  },
  {
   "cell_type": "code",
   "execution_count": 12,
   "id": "ce709adf-833d-4164-88b7-177ff05309a1",
   "metadata": {},
   "outputs": [
    {
     "data": {
      "text/plain": [
       "str"
      ]
     },
     "execution_count": 12,
     "metadata": {},
     "output_type": "execute_result"
    }
   ],
   "source": [
    "type(result)"
   ]
  },
  {
   "cell_type": "markdown",
   "id": "6d1b875c-4259-47fd-a9e3-4177f5a73be5",
   "metadata": {},
   "source": [
    "## 5. Kaydedilen Json Dosyasına Yazmak"
   ]
  },
  {
   "cell_type": "code",
   "execution_count": 13,
   "id": "79783874-a628-48b7-94bd-f61016eb8dc0",
   "metadata": {},
   "outputs": [
    {
     "data": {
      "text/plain": [
       "{'Name': 'Zeynep', 'Languages': ['Java', 'Go']}"
      ]
     },
     "execution_count": 13,
     "metadata": {},
     "output_type": "execute_result"
    }
   ],
   "source": [
    "person2 = {\n",
    "    \"Name\":\"Zeynep\",\n",
    "    \"Languages\":[\"Java\",\"Go\"],\n",
    "}\n",
    "\n",
    "with open(\"person.json\",\"w\") as f:\n",
    "    json.dump(person2, f)\n",
    "    \n",
    "with open(\"person.json\") as f:\n",
    "    data = json.load(f)\n",
    "    \n",
    "data"
   ]
  },
  {
   "cell_type": "markdown",
   "id": "aad4526f-3843-4c9a-a85e-97053b4b3034",
   "metadata": {},
   "source": [
    "## 6. Json Dosyalarının Çıktısını Düzenli Almak"
   ]
  },
  {
   "cell_type": "code",
   "execution_count": 14,
   "id": "bdb53bfb-8205-4efb-8842-13207a02fd98",
   "metadata": {},
   "outputs": [
    {
     "name": "stdout",
     "output_type": "stream",
     "text": [
      "{\n",
      "    \"Languages\": [\n",
      "        \"Java\",\n",
      "        \"Go\"\n",
      "    ],\n",
      "    \"Name\": \"Zeynep\"\n",
      "}\n"
     ]
    }
   ],
   "source": [
    "with open(\"person.json\") as f:\n",
    "    data = json.load(f)\n",
    "    \n",
    "result = json.dumps(data, indent=4, sort_keys=True)\n",
    "print(result)"
   ]
  },
  {
   "cell_type": "code",
   "execution_count": null,
   "id": "b558c988-3f8d-41ad-9f91-709a9c7f24b6",
   "metadata": {},
   "outputs": [],
   "source": []
  }
 ],
 "metadata": {
  "kernelspec": {
   "display_name": "Python 3",
   "language": "python",
   "name": "python3"
  },
  "language_info": {
   "codemirror_mode": {
    "name": "ipython",
    "version": 3
   },
   "file_extension": ".py",
   "mimetype": "text/x-python",
   "name": "python",
   "nbconvert_exporter": "python",
   "pygments_lexer": "ipython3",
   "version": "3.8.8"
  }
 },
 "nbformat": 4,
 "nbformat_minor": 5
}
